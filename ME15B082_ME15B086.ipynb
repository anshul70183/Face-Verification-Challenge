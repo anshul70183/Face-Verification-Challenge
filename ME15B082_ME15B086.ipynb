{
 "cells": [
  {
   "cell_type": "markdown",
   "metadata": {},
   "source": [
    "## Data collection"
   ]
  },
  {
   "cell_type": "code",
   "execution_count": 160,
   "metadata": {},
   "outputs": [],
   "source": [
    "#importing necessary libraries\n",
    "import numpy as np\n",
    "import scipy.misc\n",
    "import cv2\n",
    "import matplotlib.pyplot as plt\n",
    "from scipy.ndimage import zoom\n",
    "from skimage.transform import resize\n",
    "\n",
    "import scipy.misc\n",
    "from PIL import Image\n",
    "import os\n",
    "import warnings\n",
    "warnings.filterwarnings(\"ignore\")"
   ]
  },
  {
   "cell_type": "code",
   "execution_count": null,
   "metadata": {},
   "outputs": [],
   "source": []
  },
  {
   "cell_type": "code",
   "execution_count": 161,
   "metadata": {},
   "outputs": [],
   "source": [
    "#ATT Dataset\n",
    "\n",
    "from os import listdir\n",
    "from os.path import isfile, join\n",
    "mypath = \"orl_faces\"\n",
    "cropped_yale_files = [f for f in listdir(mypath) if isfile(join(mypath, f))]"
   ]
  },
  {
   "cell_type": "code",
   "execution_count": 162,
   "metadata": {},
   "outputs": [],
   "source": [
    "#extracting images for first 10 people from ATT Dataset and image cascading\n",
    "\n",
    "cascPath = \"haarcascade_frontalface_default.xml\"\n",
    "\n",
    "# Create the haar cascade\n",
    "faceCascade = cv2.CascadeClassifier(cascPath)\n",
    "\n",
    "## read the dataset\n",
    "full_face_crop = []\n",
    "full_labels_crop = []\n",
    "labels_crop = []\n",
    "\n",
    "for j in range(1,11):\n",
    "    all_images_crop = os.listdir(\"orl_faces\\s{}\".format(j))\n",
    "    #print(j)\n",
    "    # cropped_yale_files = [f for f in listdir(mypath) if isfile(join(mypath, f))]\n",
    "    img_list_crop = [filename for filename in all_images_crop ]\n",
    "    # print(all_images)\n",
    "    # print(img_list)\n",
    "\n",
    "\n",
    "    face1_crop = np.zeros((len(img_list_crop),80,60))\n",
    "    for k,img in enumerate(img_list_crop):\n",
    "        I = scipy.misc.imread(os.path.join(\"orl_faces\\s{}\".format(j),img))\n",
    "        face1_crop[k,...] = resize(I,[80,60])\n",
    "    full_face_crop.append(face1_crop)\n",
    "\n",
    "# for j in range(10,20):\n",
    "#     if (j != 14):\n",
    "#         print(j)\n",
    "\n",
    "#         all_images_crop = os.listdir(\"CroppedYale/yaleB{}\".format(j))\n",
    "#         # cropped_yale_files = [f for f in listdir(mypath) if isfile(join(mypath, f))]\n",
    "#         img_list_crop = [filename for filename in all_images_crop if filename.startswith('yaleB{}_P00A'.format(j))]\n",
    "#         # print(all_images)\n",
    "#         # print(img_list)\n",
    "\n",
    "    \n",
    "#         face1_crop = np.zeros((len(img_list_crop),80,60))\n",
    "#         for k,img in enumerate(img_list_crop):\n",
    "#             I = scipy.misc.imread(os.path.join('CroppedYale/yaleB{}'.format(j),img))\n",
    "#             face1_crop[k,...] = resize(I,[80,60])\n",
    "#         full_face_crop.append(face1_crop)        \n",
    "        \n",
    "\n",
    "#created full labels\n",
    "for i in range(1,11):\n",
    "    labels_crop = i* np.ones(10,)\n",
    "    full_labels_crop.append(labels_crop)\n",
    "    \n",
    "# full_labels = np.stack(full_labels)\n",
    "# full_face = np.stack(full_face)"
   ]
  },
  {
   "cell_type": "code",
   "execution_count": 163,
   "metadata": {},
   "outputs": [
    {
     "data": {
      "text/plain": [
       "(10, 10, 80, 60)"
      ]
     },
     "execution_count": 163,
     "metadata": {},
     "output_type": "execute_result"
    }
   ],
   "source": [
    "full_face_crop = np.array(full_face_crop)\n",
    "full_face_crop.shape"
   ]
  },
  {
   "cell_type": "code",
   "execution_count": 164,
   "metadata": {},
   "outputs": [
    {
     "data": {
      "text/plain": [
       "(10, 10)"
      ]
     },
     "execution_count": 164,
     "metadata": {},
     "output_type": "execute_result"
    }
   ],
   "source": [
    "full_labels_crop= np.array(full_labels_crop)\n",
    "full_labels_crop.shape"
   ]
  },
  {
   "cell_type": "code",
   "execution_count": 165,
   "metadata": {},
   "outputs": [],
   "source": [
    "# combining images after random permutation\n",
    "\n",
    "for k in range(full_face_crop.shape[0]):\n",
    "    g = np.random.permutation(10)   # randomly select the 9 faces\n",
    "    full_face_crop[k,...] = full_face_crop[k,g[:],...]\n",
    "    full_labels_crop[k,...] = full_labels_crop[k,g[:]]\n",
    "\n",
    "\n",
    "full_face_crop = np.reshape(full_face_crop,[-1,80,60])\n",
    "full_labels_crop = np.reshape(full_labels_crop,[-1,])"
   ]
  },
  {
   "cell_type": "code",
   "execution_count": 166,
   "metadata": {},
   "outputs": [],
   "source": [
    "full_face_att= full_face_crop\n",
    "full_labels_att= full_labels_crop"
   ]
  },
  {
   "cell_type": "code",
   "execution_count": 167,
   "metadata": {},
   "outputs": [
    {
     "data": {
      "text/plain": [
       "(100, 80, 60)"
      ]
     },
     "execution_count": 167,
     "metadata": {},
     "output_type": "execute_result"
    }
   ],
   "source": [
    "full_face_att.shape"
   ]
  },
  {
   "cell_type": "code",
   "execution_count": 168,
   "metadata": {},
   "outputs": [
    {
     "data": {
      "text/plain": [
       "<matplotlib.image.AxesImage at 0x1e5a5f06f60>"
      ]
     },
     "execution_count": 168,
     "metadata": {},
     "output_type": "execute_result"
    },
    {
     "data": {
      "image/png": "[encoded data removed]",
      "text/plain": [
       "<Figure size 432x288 with 1 Axes>"
      ]
     },
     "metadata": {},
     "output_type": "display_data"
    }
   ],
   "source": [
    "plt.imshow(full_face_crop[10],  cmap=plt.cm.gray)"
   ]
  },
  {
   "cell_type": "code",
   "execution_count": null,
   "metadata": {},
   "outputs": [],
   "source": []
  },
  {
   "cell_type": "code",
   "execution_count": 169,
   "metadata": {},
   "outputs": [],
   "source": [
    "## Yales faces dataset and image cascading\n",
    "full_face = []\n",
    "full_labels = []\n",
    "all_images = os.listdir('yalefaces')\n",
    "for j in range(1,11):    # there are 15 different people in the dataset\n",
    "    img_list = [filename for filename in all_images if filename.startswith('subject%.2d'%j)]\n",
    "#     img_list = glob.glob('yalefaces/subject%.2d*'%j)\n",
    "    face1 = np.zeros((len(img_list),80,60))\n",
    "    for k,img in enumerate(img_list):\n",
    "        I = scipy.misc.imread(os.path.join('yalefaces',img))\n",
    "        faces = faceCascade.detectMultiScale(\n",
    "            I,\n",
    "            scaleFactor=1.1,\n",
    "            minNeighbors=5,\n",
    "            minSize=(30, 30))\n",
    "        x,y,h,w = faces[0]\n",
    "        face1[k,...] = zoom(I[y:y+h,x:x+w],[80./h,60./w])\n",
    "    labels = (j+10)*np.ones((11,))\n",
    "    full_face.append(face1)\n",
    "    full_labels.append(labels)\n",
    "full_face = np.stack(full_face)    # contains the images of all faces\n",
    "full_labels = np.stack(full_labels)   # contains the ID of all the faces"
   ]
  },
  {
   "cell_type": "code",
   "execution_count": 170,
   "metadata": {},
   "outputs": [],
   "source": [
    "## Random permuation of yales data \n",
    "for k in range(full_face.shape[0]):\n",
    "    g = np.random.permutation(11)   \n",
    "    full_face[k,...] = full_face[k,g[:],...]\n",
    "    full_labels[k,...] = full_labels[k,g[:]]\n",
    "    \n",
    "full_face = np.reshape(full_face,[-1,80,60])\n",
    "full_labels = np.reshape(full_labels,[-1,])"
   ]
  },
  {
   "cell_type": "code",
   "execution_count": 171,
   "metadata": {},
   "outputs": [],
   "source": [
    "full_face_yales= full_face\n",
    "full_labels_yales= full_labels"
   ]
  },
  {
   "cell_type": "code",
   "execution_count": 172,
   "metadata": {},
   "outputs": [
    {
     "name": "stdout",
     "output_type": "stream",
     "text": [
      "(110, 80, 60)\n",
      "(110,)\n"
     ]
    }
   ],
   "source": [
    "print(full_face_yales.shape)\n",
    "print(full_labels_yales.shape)"
   ]
  },
  {
   "cell_type": "code",
   "execution_count": 173,
   "metadata": {},
   "outputs": [
    {
     "data": {
      "text/plain": [
       "<matplotlib.image.AxesImage at 0x1e5a5f5fc50>"
      ]
     },
     "execution_count": 173,
     "metadata": {},
     "output_type": "execute_result"
    },
    {
     "data": {
      "image/png": "[encoded data removed]",
      "text/plain": [
       "<Figure size 432x288 with 1 Axes>"
      ]
     },
     "metadata": {},
     "output_type": "display_data"
    }
   ],
   "source": [
    "#example of image\n",
    "plt.imshow(full_face_yales[10],  cmap=plt.cm.gray)"
   ]
  },
  {
   "cell_type": "code",
   "execution_count": null,
   "metadata": {},
   "outputs": [],
   "source": []
  },
  {
   "cell_type": "code",
   "execution_count": 174,
   "metadata": {},
   "outputs": [],
   "source": [
    "#Caltech dataset \n",
    "from os import listdir\n",
    "from os.path import isfile, join\n",
    "mypath = \"faces_grey_sub\"\n",
    "faces_rgb_files = [f for f in listdir(mypath) if isfile(join(mypath, f))]"
   ]
  },
  {
   "cell_type": "code",
   "execution_count": 175,
   "metadata": {},
   "outputs": [],
   "source": [
    "#taking images for first 10 people and casacading image\n",
    "cascPath = \"haarcascade_frontalface_default.xml\"\n",
    "\n",
    "# Create the haar cascade\n",
    "faceCascade = cv2.CascadeClassifier(cascPath)\n",
    "\n",
    "## read the dataset\n",
    "full_face = []\n",
    "full_labels = []\n",
    "labels = []\n",
    "\n",
    "for j in range(1,11):\n",
    "    all_images = os.listdir(\"faces_grey_sub/subject{}\".format(j))\n",
    "    # cropped_yale_files = [f for f in listdir(mypath) if isfile(join(mypath, f))]\n",
    "    img_list = [filename for filename in all_images ]\n",
    "    # print(all_images)\n",
    "    # print(img_list)\n",
    "\n",
    "\n",
    "    face1 = np.zeros((len(img_list),80,60))\n",
    "    for k,img in enumerate(img_list):\n",
    "        I = scipy.misc.imread(os.path.join('faces_grey_sub/subject{}'.format(j),img))\n",
    "        faces = faceCascade.detectMultiScale(\n",
    "            I,\n",
    "            scaleFactor=1.1,\n",
    "            minNeighbors=5,\n",
    "            minSize=(30, 30))\n",
    "        if len(faces) == 0:\n",
    "            face1[k,...] = resize(I,[80,60])\n",
    "            \n",
    "        else :\n",
    "            x,y,h,w = faces[0]\n",
    "            face1[k,...] = zoom(I[y:y+h,x:x+w],[80./h,60./w])\n",
    "    \n",
    "    full_face.append(face1)\n",
    "\n",
    "    labels = (j+20)* np.ones(len(img_list),)\n",
    "    full_labels.append(labels)\n"
   ]
  },
  {
   "cell_type": "code",
   "execution_count": 176,
   "metadata": {},
   "outputs": [],
   "source": [
    "full_labels = np.array(full_labels)\n",
    "full_face = np.array(full_face)\n",
    "#full_face"
   ]
  },
  {
   "cell_type": "code",
   "execution_count": 177,
   "metadata": {},
   "outputs": [],
   "source": [
    "#forming an stack of images (different number of faces for each person)\n",
    "full_face_arr2=[]\n",
    "#full_face_arr = np.array(full_face_arr)\n",
    "#full_face_arr = np.zeros((80,60))\n",
    "for i in range(len(full_face)):\n",
    "    for j in range(len(full_face[i])):\n",
    "        #full_face_arr= np.concatenate((full_face_arr, full_face[i]), axis=0)\n",
    "        full_face_arr2.append(full_face[i][j])"
   ]
  },
  {
   "cell_type": "code",
   "execution_count": 178,
   "metadata": {},
   "outputs": [],
   "source": [
    "full_face_arr2= np.array(full_face_arr2)"
   ]
  },
  {
   "cell_type": "code",
   "execution_count": 179,
   "metadata": {},
   "outputs": [],
   "source": [
    "#forming a stack of labels(different number of faces for each person)\n",
    "full_labels_arr2=[]\n",
    "full_labels_arr2 = np.array(full_labels_arr2)\n",
    "for i in range(len(full_labels)):\n",
    "    full_labels_arr2= np.concatenate((full_labels_arr2, full_labels[i]), axis=0)"
   ]
  },
  {
   "cell_type": "code",
   "execution_count": 180,
   "metadata": {},
   "outputs": [],
   "source": [
    "full_face_cal= full_face_arr2\n",
    "full_labels_cal= full_labels_arr2"
   ]
  },
  {
   "cell_type": "code",
   "execution_count": 181,
   "metadata": {},
   "outputs": [
    {
     "data": {
      "text/plain": [
       "(165, 80, 60)"
      ]
     },
     "execution_count": 181,
     "metadata": {},
     "output_type": "execute_result"
    }
   ],
   "source": [
    "full_face_cal.shape"
   ]
  },
  {
   "cell_type": "code",
   "execution_count": 182,
   "metadata": {},
   "outputs": [
    {
     "data": {
      "text/plain": [
       "<matplotlib.image.AxesImage at 0x1e5a5f76da0>"
      ]
     },
     "execution_count": 182,
     "metadata": {},
     "output_type": "execute_result"
    },
    {
     "data": {
      "image/png": "[encoded data removed]",
      "text/plain": [
       "<Figure size 432x288 with 1 Axes>"
      ]
     },
     "metadata": {},
     "output_type": "display_data"
    }
   ],
   "source": [
    "plt.imshow(full_face_cal[10],  cmap=plt.cm.gray)"
   ]
  },
  {
   "cell_type": "code",
   "execution_count": null,
   "metadata": {},
   "outputs": [],
   "source": []
  },
  {
   "cell_type": "code",
   "execution_count": 183,
   "metadata": {},
   "outputs": [],
   "source": [
    "#ufi-cropped dataset \n",
    "from os import listdir\n",
    "from os.path import isfile, join\n",
    "mypath = \"ufi-cropped/train\"\n",
    "cropped_yale_files = [f for f in listdir(mypath) if isfile(join(mypath, f))]"
   ]
  },
  {
   "cell_type": "code",
   "execution_count": 184,
   "metadata": {},
   "outputs": [],
   "source": [
    "# taking images for first 10 persons and performing image cascading (reshape in case already cropped)\n",
    "cascPath = \"haarcascade_frontalface_default.xml\"\n",
    "\n",
    "# Create the haar cascade\n",
    "faceCascade = cv2.CascadeClassifier(cascPath)\n",
    "\n",
    "## read the dataset\n",
    "full_face_ufi = []\n",
    "full_labels_ufi = []\n",
    "labels = []\n",
    "\n",
    "for j in range(1,11):\n",
    "    all_images = os.listdir(\"ufi-cropped/train/s{}\".format(j))\n",
    "    # cropped_yale_files = [f for f in listdir(mypath) if isfile(join(mypath, f))]\n",
    "    img_list = [filename for filename in all_images ]\n",
    "    # print(all_images)\n",
    "    # print(img_list)\n",
    "\n",
    "\n",
    "    face1 = np.zeros((len(img_list),80,60))\n",
    "    for k,img in enumerate(img_list):\n",
    "        I = scipy.misc.imread(os.path.join('ufi-cropped/train/s{}'.format(j),img))\n",
    "        faces = faceCascade.detectMultiScale(\n",
    "            I,\n",
    "            scaleFactor=1.1,\n",
    "            minNeighbors=5,\n",
    "            minSize=(30, 30))\n",
    "        if len(faces) == 0:\n",
    "            face1[k,...] = resize(I,[80,60])\n",
    "            \n",
    "        else :\n",
    "            x,y,h,w = faces[0]\n",
    "            face1[k,...] = zoom(I[y:y+h,x:x+w],[80./h,60./w])\n",
    "    \n",
    "    full_face_ufi.append(face1)\n",
    "\n",
    "    labels = (j+27)* np.ones(len(img_list),)\n",
    "    full_labels_ufi.append(labels)\n",
    "#     print(img_list)    \n",
    "    \n",
    "# full_labels = np.stack(full_labels)\n",
    "# full_face = np.stack(full_face)"
   ]
  },
  {
   "cell_type": "code",
   "execution_count": 185,
   "metadata": {},
   "outputs": [
    {
     "data": {
      "text/plain": [
       "(10,)"
      ]
     },
     "execution_count": 185,
     "metadata": {},
     "output_type": "execute_result"
    }
   ],
   "source": [
    "full_face_ufi = np.array(full_face_ufi)\n",
    "full_face_ufi.shape"
   ]
  },
  {
   "cell_type": "code",
   "execution_count": 186,
   "metadata": {},
   "outputs": [
    {
     "data": {
      "text/plain": [
       "(10,)"
      ]
     },
     "execution_count": 186,
     "metadata": {},
     "output_type": "execute_result"
    }
   ],
   "source": [
    "full_labels_ufi= np.array(full_labels_ufi)\n",
    "full_labels_ufi.shape"
   ]
  },
  {
   "cell_type": "code",
   "execution_count": 187,
   "metadata": {},
   "outputs": [],
   "source": [
    "full_face_ufi2=[]\n",
    "#full_face_arr = np.array(full_face_arr)\n",
    "#full_face_arr = np.zeros((80,60))\n",
    "for i in range(len(full_face_ufi)):\n",
    "    for j in range(len(full_face_ufi[i])):\n",
    "        #full_face_arr= np.concatenate((full_face_arr, full_face[i]), axis=0)\n",
    "        full_face_ufi2.append(full_face_ufi[i][j])"
   ]
  },
  {
   "cell_type": "code",
   "execution_count": 188,
   "metadata": {},
   "outputs": [],
   "source": [
    "full_face_ufi= np.array(full_face_ufi2)"
   ]
  },
  {
   "cell_type": "code",
   "execution_count": 189,
   "metadata": {},
   "outputs": [
    {
     "data": {
      "text/plain": [
       "(83, 80, 60)"
      ]
     },
     "execution_count": 189,
     "metadata": {},
     "output_type": "execute_result"
    }
   ],
   "source": [
    "full_face_ufi.shape"
   ]
  },
  {
   "cell_type": "code",
   "execution_count": 190,
   "metadata": {},
   "outputs": [],
   "source": [
    "full_labels_ufi2=[]\n",
    "full_labels_ufi2 = np.array(full_labels_ufi2)\n",
    "for i in range(len(full_labels_ufi)):\n",
    "    full_labels_ufi2= np.concatenate((full_labels_ufi2, full_labels_ufi[i]), axis=0)"
   ]
  },
  {
   "cell_type": "code",
   "execution_count": 191,
   "metadata": {},
   "outputs": [],
   "source": [
    "full_labels_ufi= np.array(full_labels_ufi2)"
   ]
  },
  {
   "cell_type": "code",
   "execution_count": 192,
   "metadata": {},
   "outputs": [
    {
     "data": {
      "text/plain": [
       "(83,)"
      ]
     },
     "execution_count": 192,
     "metadata": {},
     "output_type": "execute_result"
    }
   ],
   "source": [
    "full_labels_ufi.shape"
   ]
  },
  {
   "cell_type": "code",
   "execution_count": 193,
   "metadata": {},
   "outputs": [],
   "source": [
    "#concatenating datasets"
   ]
  },
  {
   "cell_type": "code",
   "execution_count": 194,
   "metadata": {},
   "outputs": [],
   "source": [
    "full_face_arr= np.concatenate((full_face_att, full_face_yales, full_face_cal, full_face_ufi), axis=0)"
   ]
  },
  {
   "cell_type": "code",
   "execution_count": 195,
   "metadata": {},
   "outputs": [],
   "source": [
    "full_labels_arr = np.concatenate((full_labels_att, full_labels_yales, full_labels_cal, full_labels_ufi), axis=0)"
   ]
  },
  {
   "cell_type": "code",
   "execution_count": 196,
   "metadata": {},
   "outputs": [
    {
     "data": {
      "text/plain": [
       "(458,)"
      ]
     },
     "execution_count": 196,
     "metadata": {},
     "output_type": "execute_result"
    }
   ],
   "source": [
    "full_labels_arr.shape"
   ]
  },
  {
   "cell_type": "code",
   "execution_count": 197,
   "metadata": {},
   "outputs": [
    {
     "data": {
      "text/plain": [
       "(458, 80, 60)"
      ]
     },
     "execution_count": 197,
     "metadata": {},
     "output_type": "execute_result"
    }
   ],
   "source": [
    "full_face_arr.shape"
   ]
  },
  {
   "cell_type": "markdown",
   "metadata": {},
   "source": [
    "## Image Preprocessing"
   ]
  },
  {
   "cell_type": "code",
   "execution_count": 198,
   "metadata": {},
   "outputs": [
    {
     "data": {
      "image/png": "[encoded data removed]",
      "text/plain": [
       "<Figure size 432x288 with 1 Axes>"
      ]
     },
     "metadata": {},
     "output_type": "display_data"
    }
   ],
   "source": [
    "#image normalization \n",
    "\n",
    "full_face_arr1=[]\n",
    "for i in range(len(full_face_arr)):\n",
    "    full_face_arr1.append(np.uint8(cv2.normalize(full_face_arr[i], None, 0, 255, cv2.NORM_MINMAX)))\n",
    "plt.imshow((full_face_arr1[444]),  cmap=plt.cm.gray)\n",
    "\n",
    "full_face_arr= np.array(full_face_arr1)"
   ]
  },
  {
   "cell_type": "code",
   "execution_count": 199,
   "metadata": {},
   "outputs": [],
   "source": [
    "\n",
    "# from skimage import filters\n",
    "# from skimage.filters import threshold_otsu\n",
    "# # Otsu thresholding\n",
    "# for i in range(len(full_face_arr)):\n",
    "#     threshold = threshold_otsu(full_face_arr[i])\n",
    "#     th3 = full_face_arr[i]> threshold\n",
    "#     full_face_arr[i]= th3\n",
    "# plt.imshow((full_face_arr[444]),  cmap=plt.cm.gray)"
   ]
  },
  {
   "cell_type": "code",
   "execution_count": 200,
   "metadata": {},
   "outputs": [],
   "source": [
    "# #dilation\n",
    "\n",
    "# from skimage.morphology import erosion, dilation\n",
    "# kernel = np.ones((1,1), np.uint8)\n",
    "\n",
    "# for i in range(len(full_face_arr)):\n",
    "#     full_face_arr[i] = dilation(full_face_arr[i], kernel)\n",
    "    \n",
    "# plt.imshow((full_face_arr[444]),  cmap=plt.cm.gray)"
   ]
  },
  {
   "cell_type": "code",
   "execution_count": 201,
   "metadata": {},
   "outputs": [
    {
     "data": {
      "image/png": "[encoded data removed]",
      "text/plain": [
       "<Figure size 432x288 with 1 Axes>"
      ]
     },
     "metadata": {},
     "output_type": "display_data"
    }
   ],
   "source": [
    "#CLAHE preprocessing\n",
    "\n",
    "full_face_arr1=[]\n",
    "clahe= cv2.createCLAHE(clipLimit=2.0, tileGridSize = (8,8))\n",
    "for i in range(len(full_face_arr)):\n",
    "    full_face_arr1.append(clahe.apply(full_face_arr[i]))\n",
    "    \n",
    "plt.imshow(cv2.equalizeHist(full_face_arr1[444]),  cmap=plt.cm.gray)\n",
    "\n",
    "full_face_arr= np.array(full_face_arr1)"
   ]
  },
  {
   "cell_type": "code",
   "execution_count": 202,
   "metadata": {},
   "outputs": [
    {
     "data": {
      "image/png": "[encoded data removed]",
      "text/plain": [
       "<Figure size 432x288 with 1 Axes>"
      ]
     },
     "metadata": {},
     "output_type": "display_data"
    }
   ],
   "source": [
    "#Laplcian\n",
    "\n",
    "import cv2\n",
    "full_face_arr1=[]\n",
    "for img in full_face_arr:\n",
    "    full_face_arr1.append(cv2.Laplacian(img,cv2.CV_64F))\n",
    "plt.imshow((full_face_arr1[444]),  cmap=plt.cm.gray)\n",
    "\n",
    "full_face_arr= np.array(full_face_arr1)"
   ]
  },
  {
   "cell_type": "code",
   "execution_count": 203,
   "metadata": {},
   "outputs": [
    {
     "data": {
      "text/plain": [
       "<matplotlib.image.AxesImage at 0x1e5a58c68d0>"
      ]
     },
     "execution_count": 203,
     "metadata": {},
     "output_type": "execute_result"
    },
    {
     "data": {
      "image/png": "[encoded data removed]",
      "text/plain": [
       "<Figure size 432x288 with 1 Axes>"
      ]
     },
     "metadata": {},
     "output_type": "display_data"
    }
   ],
   "source": [
    "plt.imshow(full_face_arr[55],  cmap=plt.cm.gray)"
   ]
  },
  {
   "cell_type": "markdown",
   "metadata": {},
   "source": [
    "## Feature extraction"
   ]
  },
  {
   "cell_type": "code",
   "execution_count": 204,
   "metadata": {},
   "outputs": [],
   "source": [
    "#KAZE Feature extraction\n",
    "\n",
    "# import cv2\n",
    "# import numpy as np\n",
    "# import scipy\n",
    "# from scipy.misc import imread\n",
    "# #import cPickle as pickle\n",
    "# import random\n",
    "# import os\n",
    "# import matplotlib.pyplot as plt\n",
    "\n",
    "# # Feature extractor\n",
    "# def extract_features(full_face_arr, vector_size=32):\n",
    "#     arr=[]\n",
    "#     k=0\n",
    "#     for image in full_face_arr:\n",
    "#         try:\n",
    "#             # Using KAZE, cause SIFT, ORB and other was moved to additional module\n",
    "#             # which is adding addtional pain during install\n",
    "#             alg = cv2.KAZE_create()\n",
    "            \n",
    "#             image=image.astype(np.uint8)\n",
    "#             # Dinding image keypoints\n",
    "#             kps, dsc = alg.detectAndCompute(image, None)\n",
    "            \n",
    "#             if dsc is None:\n",
    "#                 arr.append(np.zeros(vector_size * 64))\n",
    "#             else:\n",
    "#                 # Getting first 32 of them. \n",
    "#                 # Number of keypoints is varies depend on image size and color pallet\n",
    "#                 # Sorting them based on keypoint response value(bigger is better)\n",
    "#                 kps = sorted(kps, key=lambda x: -x.response)[:vector_size]\n",
    "\n",
    "#                 # computing descriptors vector\n",
    "#                 #kps, dsc = alg.compute(image, kps)\n",
    "\n",
    "#                 # Flatten all of them in one big vector - our feature vector\n",
    "#                 dsc = dsc.flatten()\n",
    "\n",
    "#                 # Making descriptor of same size\n",
    "#                 # Descriptor vector size is 64\n",
    "#                 needed_size = (vector_size * 64)\n",
    "#                 if dsc.size < needed_size:\n",
    "#                     # if we have less the 32 descriptors then just adding zeros at the\n",
    "#                     # end of our feature vector\n",
    "#                     dsc = np.concatenate([dsc, np.zeros(needed_size - dsc.size)])\n",
    "#                 #dsc= np.array(dsc)\n",
    "#                 #print(dsc)\n",
    "#                 arr.append(dsc)\n",
    "#             k=k+1\n",
    "#         except cv2.error as e:\n",
    "#             print ('Error: ', e)\n",
    "\n",
    "#     return arr\n",
    "\n"
   ]
  },
  {
   "cell_type": "code",
   "execution_count": 205,
   "metadata": {},
   "outputs": [],
   "source": [
    "#train test split\n",
    "from sklearn.model_selection import train_test_split\n",
    "train_set, test_set, train_labels, test_labels = train_test_split(full_face_arr, full_labels_arr, stratify= full_labels_arr)"
   ]
  },
  {
   "cell_type": "code",
   "execution_count": 206,
   "metadata": {},
   "outputs": [
    {
     "name": "stdout",
     "output_type": "stream",
     "text": [
      "255.0\n"
     ]
    }
   ],
   "source": [
    "#LBFH \n",
    "\n",
    "from skimage.feature import local_binary_pattern\n",
    "# train_set = np.reshape(train_set,[-1,80,60])\n",
    "# train_labels = np.reshape(train_labels,[-1,])\n",
    "# test_set = np.reshape(test_set,[-1,80,60])\n",
    "# test_labels = np.reshape(test_labels,[-1,])\n",
    "train_feat = np.zeros_like(train_set)\n",
    "test_feat = np.zeros_like(test_set)\n",
    "\n",
    "for k in range(train_feat.shape[0]):\n",
    "        train_feat[k,...] = local_binary_pattern(train_set[k,...],8,3)#,method='uniform')\n",
    "for k in range(test_feat.shape[0]):\n",
    "        test_feat[k,...] = local_binary_pattern(test_set[k,...],8,3)#,method='uniform')\n",
    "print(np.amax(test_feat))"
   ]
  },
  {
   "cell_type": "code",
   "execution_count": 207,
   "metadata": {},
   "outputs": [
    {
     "data": {
      "image/png": "[encoded data removed]",
      "text/plain": [
       "<Figure size 432x288 with 2 Axes>"
      ]
     },
     "metadata": {},
     "output_type": "display_data"
    }
   ],
   "source": [
    "## visualize an original image and an LBP image\n",
    "idx= 60\n",
    "plt.subplot(121)\n",
    "plt.title('Original Image')\n",
    "plt.imshow(train_set[idx,...],cmap='Greys_r')\n",
    "\n",
    "plt.subplot(122)\n",
    "plt.title('LBP Image')\n",
    "plt.imshow(train_feat[idx,...],cmap='Greys_r')\n",
    "plt.show()"
   ]
  },
  {
   "cell_type": "code",
   "execution_count": 208,
   "metadata": {},
   "outputs": [
    {
     "name": "stdout",
     "output_type": "stream",
     "text": [
      "(343, 3136)\n",
      "(115, 3136)\n"
     ]
    }
   ],
   "source": [
    "# set the number of grids in x and y direction\n",
    "# divide the image into the specified number of grids\n",
    "# for each grid compute the histogram with 64 bins\n",
    "# concatenate the histogram from all grid regions to form a single feature\n",
    "# now we have one feature vector per image\n",
    "# Note that grid size and histogram bin sizes are variable\n",
    "x_grid = 7\n",
    "y_grid = 7\n",
    "grid_size_x = train_feat.shape[1]//x_grid\n",
    "grid_size_y = train_feat.shape[2]//y_grid\n",
    "for k in range(train_feat.shape[0]):\n",
    "    for x in range(x_grid):\n",
    "        for y in range(y_grid):\n",
    "            patch = train_feat[k,x*grid_size_x:(x+1)*grid_size_x,y*grid_size_y:(y+1)*grid_size_y]\n",
    "            hist,_ = np.histogram(patch.reshape(-1),bins=64)\n",
    "            if x==0 and y==0:\n",
    "                patch_hist_list = hist\n",
    "            else:\n",
    "                patch_hist_list = np.concatenate([patch_hist_list,hist],0)\n",
    "    if k==0:\n",
    "        data_hist = patch_hist_list[np.newaxis,...]\n",
    "    else:\n",
    "        data_hist = np.concatenate([data_hist,patch_hist_list[np.newaxis,...]],0)\n",
    "print(data_hist.shape)\n",
    "\n",
    "grid_size_x = test_feat.shape[1]//x_grid\n",
    "grid_size_y = test_feat.shape[2]//y_grid\n",
    "\n",
    "for k in range(test_feat.shape[0]):\n",
    "    for x in range(x_grid):\n",
    "        for y in range(y_grid):\n",
    "            patch = test_feat[k,x*grid_size_x:(x+1)*grid_size_x,y*grid_size_y:(y+1)*grid_size_y]\n",
    "            hist,_ = np.histogram(patch.reshape(-1),bins=64)\n",
    "            if x==0 and y==0:\n",
    "                patch_hist_list = hist\n",
    "            else:\n",
    "                patch_hist_list = np.concatenate([patch_hist_list,hist],0)\n",
    "    if k==0:\n",
    "        test_data_hist = patch_hist_list[np.newaxis,...]\n",
    "    else:\n",
    "        test_data_hist = np.concatenate([test_data_hist,patch_hist_list[np.newaxis,...]],0)\n",
    "print(test_data_hist.shape)"
   ]
  },
  {
   "cell_type": "code",
   "execution_count": 209,
   "metadata": {},
   "outputs": [
    {
     "name": "stdout",
     "output_type": "stream",
     "text": [
      "(343, 3136) (115, 3136)\n"
     ]
    },
    {
     "data": {
      "text/plain": [
       "PCA(copy=True, iterated_power='auto', n_components=None, random_state=None,\n",
       "  svd_solver='auto', tol=0.0, whiten=True)"
      ]
     },
     "execution_count": 209,
     "metadata": {},
     "output_type": "execute_result"
    }
   ],
   "source": [
    "#PCA\n",
    "from sklearn.decomposition import PCA\n",
    "pca = PCA(whiten=True)\n",
    "train_feat = data_hist\n",
    "test_feat = test_data_hist\n",
    "print(train_feat.shape,test_feat.shape)\n",
    "pca.fit(train_feat)"
   ]
  },
  {
   "cell_type": "code",
   "execution_count": 210,
   "metadata": {},
   "outputs": [
    {
     "name": "stdout",
     "output_type": "stream",
     "text": [
      "326\n",
      "(343, 326)\n"
     ]
    }
   ],
   "source": [
    "# select number of components which explain 99% of the data variance\n",
    "n_components = np.argmin(np.cumsum(pca.explained_variance_ratio_)<=0.99)\n",
    "print(n_components)\n",
    "train_feat_pca = pca.transform(train_feat)\n",
    "train_feat_pca = train_feat_pca[:,:n_components]\n",
    "test_feat_pca = pca.transform(test_feat)\n",
    "test_feat_pca = test_feat_pca[:,:n_components]\n",
    "print(train_feat_pca.shape)"
   ]
  },
  {
   "cell_type": "code",
   "execution_count": 211,
   "metadata": {},
   "outputs": [],
   "source": [
    "#hog features\n",
    "# train_set = np.reshape(train_set,[train_set.shape[0],4800])\n",
    "# test_set =  np.reshape(test_set,[test_set.shape[0],4800])\n",
    "# data_hist= train_set\n",
    "# test_data_hist= test_set"
   ]
  },
  {
   "cell_type": "code",
   "execution_count": 212,
   "metadata": {},
   "outputs": [],
   "source": [
    "# from skimage.feature import hog,corner_fast\n",
    "# #features_nums = faces.data.reshape(-1,62,47)\n",
    "# hog_features = [hog(full_face_arr[n,:,:],pixels_per_cell=(7,7)) for n in range(full_face_arr.shape[0])]\n",
    "# hog_features = np.stack(hog_features,0)\n",
    "# print(hog_features.shape)"
   ]
  },
  {
   "cell_type": "code",
   "execution_count": 213,
   "metadata": {},
   "outputs": [],
   "source": [
    "# from sklearn.model_selection import train_test_split\n",
    "# train_set, test_set, train_labels, test_labels = train_test_split(hog_features, full_labels_arr, stratify= full_labels_arr)"
   ]
  },
  {
   "cell_type": "code",
   "execution_count": 214,
   "metadata": {},
   "outputs": [],
   "source": [
    "# from sklearn.decomposition import PCA\n",
    "# pca = PCA(whiten=True)\n",
    "# train_feat = train_set\n",
    "# test_feat = test_set\n",
    "# print(train_feat.shape,test_feat.shape)\n",
    "# pca.fit(train_feat)"
   ]
  },
  {
   "cell_type": "code",
   "execution_count": null,
   "metadata": {},
   "outputs": [],
   "source": []
  },
  {
   "cell_type": "code",
   "execution_count": 215,
   "metadata": {},
   "outputs": [],
   "source": [
    "#forming training pairs\n",
    "import itertools\n",
    "img_pair = []\n",
    "#img_full_pair = []\n",
    "label_pair = []\n",
    "for pair in itertools.combinations_with_replacement(range(train_feat_pca.shape[0]),2):\n",
    "    img_pair.append(train_feat_pca[pair,:])\n",
    "    #img_full_pair.append(train_set[pair,:])\n",
    "    label_pair.append(train_labels[pair,])\n",
    "img_pair = np.stack(img_pair)\n",
    "#img_full_pair = np.stack(img_full_pair)\n",
    "label_pair = np.stack(label_pair)\n",
    "label_pair = (label_pair[:,0] == label_pair[:,1])\n",
    "label_pair = label_pair*1"
   ]
  },
  {
   "cell_type": "code",
   "execution_count": 216,
   "metadata": {},
   "outputs": [],
   "source": [
    "#forming test pairs\n",
    "test_img_pair = []\n",
    "test_label_pair = []\n",
    "for pair in itertools.combinations_with_replacement(range(test_feat.shape[0]),2):\n",
    "    test_img_pair.append(test_feat_pca[pair,...])\n",
    "    test_label_pair.append(test_labels[pair,])\n",
    "test_img_pair = np.stack(test_img_pair)\n",
    "test_label_pair = np.stack(test_label_pair)\n",
    "test_label_pair = (test_label_pair[:,0] == test_label_pair[:,1])\n",
    "test_label_pair = test_label_pair*1"
   ]
  },
  {
   "cell_type": "code",
   "execution_count": 217,
   "metadata": {},
   "outputs": [
    {
     "data": {
      "text/plain": [
       "array([56948,  2048], dtype=int64)"
      ]
     },
     "execution_count": 217,
     "metadata": {},
     "output_type": "execute_result"
    }
   ],
   "source": [
    "#count of classes\n",
    "np.bincount(label_pair)"
   ]
  },
  {
   "cell_type": "code",
   "execution_count": 218,
   "metadata": {},
   "outputs": [],
   "source": [
    "#getting trainable features\n",
    "img_pair1 = np.abs(img_pair[:,0,...] - img_pair[:,1,...])\n",
    "test_img_pair1 = np.abs(test_img_pair[:,0,...] - test_img_pair[:,1,...])"
   ]
  },
  {
   "cell_type": "code",
   "execution_count": null,
   "metadata": {},
   "outputs": [],
   "source": []
  },
  {
   "cell_type": "code",
   "execution_count": 219,
   "metadata": {},
   "outputs": [],
   "source": [
    "# SMOTE upsampling\n",
    "\n",
    "# import pandas as pd\n",
    "# img_pair1_df= pd.DataFrame(img_pair1)\n",
    "# label_pair_df= pd.DataFrame(label_pair)"
   ]
  },
  {
   "cell_type": "code",
   "execution_count": 220,
   "metadata": {},
   "outputs": [],
   "source": [
    "\n",
    "# from imblearn.over_sampling import SMOTE, ADASYN\n",
    "# from imblearn.under_sampling import CondensedNearestNeighbour, InstanceHardnessThreshold\n",
    "# from imblearn.combine import SMOTETomek\n",
    "# sm =  SMOTETomek()\n",
    "# img_pair1, label_pair = sm.fit_sample(img_pair1_df, label_pair_df)"
   ]
  },
  {
   "cell_type": "code",
   "execution_count": null,
   "metadata": {},
   "outputs": [],
   "source": []
  },
  {
   "cell_type": "code",
   "execution_count": 221,
   "metadata": {},
   "outputs": [],
   "source": [
    "# normal upsample\n",
    "\n",
    "# label_pair_df.columns =['output']\n",
    "# label_pair_df.head()"
   ]
  },
  {
   "cell_type": "code",
   "execution_count": 222,
   "metadata": {},
   "outputs": [],
   "source": [
    "# df_upsample= pd.concat([img_pair1_df , label_pair_df], axis=1)\n",
    "# df_upsample.head()"
   ]
  },
  {
   "cell_type": "code",
   "execution_count": 223,
   "metadata": {},
   "outputs": [],
   "source": [
    "# ## upsampling\n",
    "\n",
    "# #resample function\n",
    "# from sklearn.utils import resample\n",
    "# # Separate majority and minority classes\n",
    "# df_majority = df_upsample[df_upsample.output==0]\n",
    "# df_minority = df_upsample[df_upsample.output==1]\n",
    " \n",
    "# # Upsample minority class\n",
    "# df_minority_upsampled = resample(df_minority, \n",
    "#                                  replace=True,     # sample with replacement\n",
    "#                                  n_samples= 53031,    # to match majority class\n",
    "#                                  random_state=123) # reproducible results\n",
    " \n",
    "# # Combine majority class with upsampled minority class\n",
    "# df_upsampled = pd.concat([df_majority, df_minority_upsampled])\n",
    " \n",
    "# # Display new class counts\n",
    "# df_upsampled.output.value_counts()"
   ]
  },
  {
   "cell_type": "code",
   "execution_count": 224,
   "metadata": {},
   "outputs": [],
   "source": [
    "# ## upsampling\n",
    "\n",
    "# #resample function\n",
    "# from sklearn.utils import resample\n",
    "# # Separate majority and minority classes\n",
    "# df_majority = df_upsample[df_upsample.output==0]\n",
    "# df_minority = df_upsample[df_upsample.output==1]\n",
    " \n",
    "# # Upsample minority class\n",
    "# df_minority_upsampled = resample(df_majority, \n",
    "#                                  replace=True,     # sample with replacement\n",
    "#                                  n_samples= 20000,    # to match majority class\n",
    "#                                  random_state=123) # reproducible results\n",
    " \n",
    "# # Combine majority class with upsampled minority class\n",
    "# df_upsampled = pd.concat([df_minority_upsampled, df_minority])\n",
    " \n",
    "# # Display new class counts\n",
    "# df_upsampled.output.value_counts()"
   ]
  },
  {
   "cell_type": "code",
   "execution_count": 225,
   "metadata": {},
   "outputs": [],
   "source": [
    "# np.shape(df_upsampled)"
   ]
  },
  {
   "cell_type": "code",
   "execution_count": 226,
   "metadata": {},
   "outputs": [],
   "source": [
    "# img_pair1= df_upsampled.drop('output', axis=1)\n",
    "# label_pair= df_upsampled['output']"
   ]
  },
  {
   "cell_type": "code",
   "execution_count": null,
   "metadata": {},
   "outputs": [],
   "source": [
    "\n"
   ]
  },
  {
   "cell_type": "code",
   "execution_count": 227,
   "metadata": {},
   "outputs": [],
   "source": [
    "img_pair1= np.array(img_pair1)\n",
    "label_pair =np.array(label_pair)"
   ]
  },
  {
   "cell_type": "code",
   "execution_count": 228,
   "metadata": {},
   "outputs": [
    {
     "data": {
      "text/plain": [
       "(58996, 326)"
      ]
     },
     "execution_count": 228,
     "metadata": {},
     "output_type": "execute_result"
    }
   ],
   "source": [
    "img_pair1.shape"
   ]
  },
  {
   "cell_type": "code",
   "execution_count": 229,
   "metadata": {},
   "outputs": [
    {
     "data": {
      "text/plain": [
       "array([56948,  2048], dtype=int64)"
      ]
     },
     "execution_count": 229,
     "metadata": {},
     "output_type": "execute_result"
    }
   ],
   "source": [
    "np.bincount(label_pair)"
   ]
  },
  {
   "cell_type": "markdown",
   "metadata": {},
   "source": [
    "## Training and evaluation curves"
   ]
  },
  {
   "cell_type": "code",
   "execution_count": 230,
   "metadata": {},
   "outputs": [],
   "source": [
    "# shuffle the training data\n",
    "g = np.random.permutation(img_pair1.shape[0])\n",
    "img_pair1 = img_pair1[g,:]\n",
    "label_pair = label_pair[g,]\n",
    "\n",
    "#initializing model\n",
    "from xgboost import XGBClassifier\n",
    "from sklearn.tree import DecisionTreeClassifier\n",
    "from sklearn.svm import SVC\n",
    "from sklearn.ensemble import AdaBoostClassifier\n",
    "from sklearn.ensemble import RandomForestClassifier\n",
    "from imblearn.ensemble import BalancedBaggingClassifier\n",
    "#from imblearn.ensemble import BalancedRandomForestClassifier\n",
    "\n",
    "from sklearn.neural_network import MLPClassifier\n",
    "clf = RandomForestClassifier(n_estimators= 50,random_state=1, n_jobs=-1 , min_samples_leaf=1)"
   ]
  },
  {
   "cell_type": "code",
   "execution_count": 231,
   "metadata": {},
   "outputs": [
    {
     "data": {
      "text/plain": [
       "RandomForestClassifier(bootstrap=True, class_weight=None, criterion='gini',\n",
       "            max_depth=None, max_features='auto', max_leaf_nodes=None,\n",
       "            min_impurity_decrease=0.0, min_impurity_split=None,\n",
       "            min_samples_leaf=1, min_samples_split=2,\n",
       "            min_weight_fraction_leaf=0.0, n_estimators=50, n_jobs=-1,\n",
       "            oob_score=False, random_state=1, verbose=0, warm_start=False)"
      ]
     },
     "execution_count": 231,
     "metadata": {},
     "output_type": "execute_result"
    }
   ],
   "source": [
    "clf.fit(img_pair1,label_pair)"
   ]
  },
  {
   "cell_type": "code",
   "execution_count": 232,
   "metadata": {},
   "outputs": [
    {
     "name": "stdout",
     "output_type": "stream",
     "text": [
      "0.9997287951725541\n"
     ]
    }
   ],
   "source": [
    "print(clf.score(img_pair1, label_pair))"
   ]
  },
  {
   "cell_type": "code",
   "execution_count": 233,
   "metadata": {},
   "outputs": [
    {
     "name": "stdout",
     "output_type": "stream",
     "text": [
      "0.9755622188905547\n"
     ]
    }
   ],
   "source": [
    "print(clf.score(test_img_pair1, test_label_pair))"
   ]
  },
  {
   "cell_type": "code",
   "execution_count": 234,
   "metadata": {},
   "outputs": [
    {
     "name": "stdout",
     "output_type": "stream",
     "text": [
      "0.5852417302798981\n"
     ]
    }
   ],
   "source": [
    "pred = clf.predict_proba(test_img_pair1)\n",
    "from sklearn.metrics import f1_score\n",
    "print(f1_score(clf.predict(test_img_pair1),test_label_pair))"
   ]
  },
  {
   "cell_type": "code",
   "execution_count": 235,
   "metadata": {},
   "outputs": [
    {
     "name": "stdout",
     "output_type": "stream",
     "text": [
      "Number of thresholds evaluated:  24\n"
     ]
    },
    {
     "data": {
      "image/png": "[encoded data removed]",
      "text/plain": [
       "<Figure size 432x288 with 1 Axes>"
      ]
     },
     "metadata": {},
     "output_type": "display_data"
    }
   ],
   "source": [
    "# plot the precision-recall curve\n",
    "\n",
    "from sklearn.metrics import auc,precision_recall_curve\n",
    "precision,recall,thr = precision_recall_curve(test_label_pair, pred[:,1], pos_label=1)\n",
    "print('Number of thresholds evaluated: ',len(thr))\n",
    "plt.plot(recall,precision)\n",
    "plt.xlabel('recall')\n",
    "plt.ylabel('precision')\n",
    "plt.show()"
   ]
  },
  {
   "cell_type": "code",
   "execution_count": 236,
   "metadata": {},
   "outputs": [
    {
     "name": "stdout",
     "output_type": "stream",
     "text": [
      "max f1-score: 0.5894206549118388\n",
      "Area under Precision Recall Curve:  0.5728312113456362\n"
     ]
    }
   ],
   "source": [
    "f1_score = (2*precision*recall)/(precision+recall)\n",
    "print('max f1-score:',np.amax(f1_score))\n",
    "pr_auc = auc(recall,precision)\n",
    "print('Area under Precision Recall Curve: ',pr_auc)"
   ]
  },
  {
   "cell_type": "code",
   "execution_count": 237,
   "metadata": {},
   "outputs": [],
   "source": [
    "pred1 = clf.predict(test_img_pair1)"
   ]
  },
  {
   "cell_type": "code",
   "execution_count": 238,
   "metadata": {},
   "outputs": [
    {
     "name": "stdout",
     "output_type": "stream",
     "text": [
      "              precision    recall  f1-score   support\n",
      "\n",
      "           0       0.98      1.00      0.99      6392\n",
      "           1       1.00      0.41      0.59       278\n",
      "\n",
      "   micro avg       0.98      0.98      0.98      6670\n",
      "   macro avg       0.99      0.71      0.79      6670\n",
      "weighted avg       0.98      0.98      0.97      6670\n",
      "\n"
     ]
    }
   ],
   "source": [
    "#classification report\n",
    "from sklearn.metrics import classification_report\n",
    "print(classification_report(test_label_pair, pred1))"
   ]
  },
  {
   "cell_type": "code",
   "execution_count": 239,
   "metadata": {},
   "outputs": [
    {
     "data": {
      "image/png": "[encoded data removed]",
      "text/plain": [
       "<Figure size 504x360 with 1 Axes>"
      ]
     },
     "metadata": {},
     "output_type": "display_data"
    }
   ],
   "source": [
    "#ROC Curve\n",
    "\n",
    "from sklearn.metrics import roc_curve, auc\n",
    "from scipy import interp \n",
    "\n",
    "fig = plt.figure(figsize=(7, 5)) \n",
    "mean_tpr = 0.0\n",
    "mean_fpr = np.linspace(0, 1, 100) \n",
    "all_tpr = []\n",
    "\n",
    "\n",
    "fpr,  tpr, thresholds = roc_curve(test_label_pair,  pred[:, 1], pos_label=1) \n",
    "mean_tpr += interp(mean_fpr, fpr, tpr)\n",
    "mean_tpr[0] = 0.0\n",
    "\n",
    "\n",
    "# Receiver Operating Characteristic - Area Under the Curve\n",
    "roc_auc = auc(fpr, tpr) \n",
    "plt.plot(fpr, tpr, lw=1, label='ROC for RandomForest (area = %0.2f)' % (roc_auc)) \n",
    "\n",
    "plt.plot([0, 1], [0, 1], linestyle='--', color=(0.6, 0.6, 0.6), label='random guessing') \n",
    "\n",
    "#mean_tpr /= len(models)\n",
    "mean_tpr[-1] = 1.0\n",
    "mean_auc = auc(mean_fpr, mean_tpr) # Mean Area Under the Curve\n",
    "\n",
    "# Plots\n",
    "#plt.plot(mean_fpr, mean_tpr, 'k--', label='mean ROC (area = %0.2f)' % mean_auc, lw=2) \n",
    "plt.plot([0, 0, 1], [0, 1, 1], lw=2, linestyle=':', color='black', label='perfect performance') \n",
    "plt.xlim([-0.05, 1.05]) \n",
    "plt.ylim([-0.05, 1.05]) \n",
    "plt.xlabel('false positive rate') \n",
    "plt.ylabel('true positive rate')\n",
    "plt.title('Receiver Operator Characteristic') \n",
    "plt.legend(loc=\"lower right\")\n",
    "plt.show()\n"
   ]
  },
  {
   "cell_type": "markdown",
   "metadata": {},
   "source": [
    "## Kaggle test dataset"
   ]
  },
  {
   "cell_type": "code",
   "execution_count": 240,
   "metadata": {},
   "outputs": [],
   "source": [
    "#importing file\n",
    "import h5py    \n",
    "import numpy as np    \n",
    "f = h5py.File('test.h5','r+')   "
   ]
  },
  {
   "cell_type": "code",
   "execution_count": 241,
   "metadata": {},
   "outputs": [],
   "source": [
    "#getting keys\n",
    "keys =list(f.keys())"
   ]
  },
  {
   "cell_type": "code",
   "execution_count": 242,
   "metadata": {},
   "outputs": [],
   "source": [
    "#getting images \n",
    "images_test=[]\n",
    "for key in keys:\n",
    "    images_test.append(np.array(f[key]))"
   ]
  },
  {
   "cell_type": "code",
   "execution_count": 243,
   "metadata": {},
   "outputs": [],
   "source": [
    "#saving test dataset\n",
    "from scipy.misc import imsave\n",
    "for k, key in enumerate(keys):\n",
    "    imsave('./Test Data/{0}.jpg'.format(key), images_test[k])"
   ]
  },
  {
   "cell_type": "code",
   "execution_count": 244,
   "metadata": {},
   "outputs": [],
   "source": [
    "#cascading images \n",
    "from skimage.transform import resize\n",
    "\n",
    "full_face_test = []\n",
    "all_images_test = os.listdir('Test data')\n",
    "img_list_test = [filename for filename in all_images_test]\n",
    "face1_test = np.zeros((len(img_list_test),80,60))\n",
    "\n",
    "for k,img in enumerate(img_list_test):\n",
    "        I1 = scipy.misc.imread(os.path.join('Test Data', img))\n",
    "        #plt.imshow(I1 ,cmap='Greys_r')\n",
    "        faces = faceCascade.detectMultiScale(\n",
    "            I1,\n",
    "            scaleFactor=1.1,\n",
    "            minNeighbors=5,\n",
    "            minSize=(30, 30))\n",
    "        if len(faces)==0:\n",
    "            face1_test[k,...] = resize(I1 ,[80,60])\n",
    "        else:\n",
    "            x,y,h,w = faces[0]\n",
    "            face1_test[k,...] = zoom(I1[y:y+h,x:x+w],[80./h,60./w])\n",
    "        #labels = (j-1)*np.ones((11,))\n",
    "full_face_test = (face1_test)\n",
    "        #full_labels.append(labels)\n",
    "#full_face = np.stack(full_face)    # contains the images of all faces\n",
    "#full_labels = np.stack(full_labels)   # contains the ID of all the faces"
   ]
  },
  {
   "cell_type": "markdown",
   "metadata": {},
   "source": [
    "### Preprocessing"
   ]
  },
  {
   "cell_type": "code",
   "execution_count": 245,
   "metadata": {},
   "outputs": [],
   "source": [
    "full_face_test= np.array(full_face_test)"
   ]
  },
  {
   "cell_type": "code",
   "execution_count": 246,
   "metadata": {},
   "outputs": [],
   "source": [
    "# from skimage import filters\n",
    "# from skimage.filters import threshold_otsu\n",
    "# # Otsu thresholding\n",
    "# for i in range(len(full_face_test)):\n",
    "#     threshold = threshold_otsu(full_face_test[i])\n",
    "#     th3 = full_face_test[i]> threshold\n",
    "#     full_face_test[i]= th3\n",
    "    "
   ]
  },
  {
   "cell_type": "code",
   "execution_count": 247,
   "metadata": {},
   "outputs": [],
   "source": [
    "# from skimage.morphology import erosion, dilation\n",
    "# kernel = np.ones((1,1), np.uint8)\n",
    "\n",
    "# for i in range(len(full_face_test)):\n",
    "#     full_face_test[i] = dilation(full_face_test[i], kernel)"
   ]
  },
  {
   "cell_type": "code",
   "execution_count": 248,
   "metadata": {},
   "outputs": [
    {
     "data": {
      "text/plain": [
       "<matplotlib.image.AxesImage at 0x1e5a5ca2320>"
      ]
     },
     "execution_count": 248,
     "metadata": {},
     "output_type": "execute_result"
    },
    {
     "data": {
      "image/png": "[encoded data removed]",
      "text/plain": [
       "<Figure size 432x288 with 1 Axes>"
      ]
     },
     "metadata": {},
     "output_type": "display_data"
    }
   ],
   "source": [
    "plt.imshow(full_face_test[5], cmap=plt.cm.gray)"
   ]
  },
  {
   "cell_type": "code",
   "execution_count": 249,
   "metadata": {},
   "outputs": [
    {
     "data": {
      "text/plain": [
       "(120, 80, 60)"
      ]
     },
     "execution_count": 249,
     "metadata": {},
     "output_type": "execute_result"
    }
   ],
   "source": [
    "full_face_test.shape"
   ]
  },
  {
   "cell_type": "code",
   "execution_count": 250,
   "metadata": {},
   "outputs": [
    {
     "data": {
      "image/png": "[encoded data removed]",
      "text/plain": [
       "<Figure size 432x288 with 1 Axes>"
      ]
     },
     "metadata": {},
     "output_type": "display_data"
    }
   ],
   "source": [
    "#normalization \n",
    "full_face_test1= []\n",
    "for i in range(len(full_face_test)):\n",
    "    full_face_test1.append(np.uint8(cv2.normalize(full_face_test[i], None, 0, 255, cv2.NORM_MINMAX)))\n",
    "\n",
    "plt.imshow(full_face_test1[5], cmap=plt.cm.gray)\n",
    "\n",
    "full_face_test= np.array(full_face_test1)"
   ]
  },
  {
   "cell_type": "code",
   "execution_count": null,
   "metadata": {},
   "outputs": [],
   "source": []
  },
  {
   "cell_type": "code",
   "execution_count": 251,
   "metadata": {},
   "outputs": [],
   "source": [
    "# clahe= cv2.createCLAHE(clipLimit=2.0, tileGridSize = (8,8))\n",
    "# full_face_test1= []\n",
    "# for i in range(len(full_face_test)):\n",
    "#     full_face_test1.append(clahe.apply(full_face_test[i]))\n",
    "  \n",
    "# plt.imshow(full_face_test1[4], cmap=plt.cm.gray)\n",
    "# full_face_test= np.array(full_face_test1)  "
   ]
  },
  {
   "cell_type": "code",
   "execution_count": 252,
   "metadata": {},
   "outputs": [],
   "source": [
    "# import cv2\n",
    "# full_face_test1= []\n",
    "# for img in full_face_test:\n",
    "#     full_face_test1.append(cv2.Laplacian(img,cv2.CV_64F))\n",
    "    \n",
    "# plt.imshow(full_face_test1[4], cmap=plt.cm.gray)\n",
    "# full_face_test= np.array(full_face_test1) "
   ]
  },
  {
   "cell_type": "code",
   "execution_count": 253,
   "metadata": {},
   "outputs": [],
   "source": [
    "#KAZE\n",
    "\n",
    "# import cv2\n",
    "# import numpy as np\n",
    "# import scipy\n",
    "# from scipy.misc import imread\n",
    "# #import cPickle as pickle\n",
    "# import random\n",
    "# import os\n",
    "# import matplotlib.pyplot as plt\n",
    "\n",
    "# # Feature extractor\n",
    "# def extract_features(full_face_test, vector_size=32):\n",
    "#     arr=[]\n",
    "#     k=0\n",
    "#     for image in full_face_test:\n",
    "#         try:\n",
    "#             # Using KAZE, cause SIFT, ORB and other was moved to additional module\n",
    "#             # which is adding addtional pain during install\n",
    "#             alg = cv2.KAZE_create()\n",
    "            \n",
    "#             image=image.astype(np.uint8)\n",
    "#             # Dinding image keypoints\n",
    "#             kps, dsc = alg.detectAndCompute(image, None)\n",
    "            \n",
    "#             if dsc is None:\n",
    "#                 arr.append(np.zeros(vector_size * 64))\n",
    "#             else:\n",
    "#                 # Getting first 32 of them. \n",
    "#                 # Number of keypoints is varies depend on image size and color pallet\n",
    "#                 # Sorting them based on keypoint response value(bigger is better)\n",
    "#                 kps = sorted(kps, key=lambda x: -x.response)[:vector_size]\n",
    "\n",
    "#                 # computing descriptors vector\n",
    "#                 #kps, dsc = alg.compute(image, kps)\n",
    "\n",
    "#                 # Flatten all of them in one big vector - our feature vector\n",
    "#                 dsc = dsc.flatten()\n",
    "\n",
    "#                 # Making descriptor of same size\n",
    "#                 # Descriptor vector size is 64\n",
    "#                 needed_size = (vector_size * 64)\n",
    "#                 if dsc.size < needed_size:\n",
    "#                     # if we have less the 32 descriptors then just adding zeros at the\n",
    "#                     # end of our feature vector\n",
    "#                     dsc = np.concatenate([dsc, np.zeros(needed_size - dsc.size)])\n",
    "#                 #dsc= np.array(dsc)\n",
    "#                 #print(dsc)\n",
    "#                 arr.append(dsc)\n",
    "#             k=k+1\n",
    "#         except cv2.error as e:\n",
    "#             print ('Error: ', e)\n",
    "\n",
    "#     return arr\n",
    "\n",
    "\n",
    "# def batch_extractor(images_path, pickled_db_path=\"features.pck\"):\n",
    "#     files = [os.path.join(images_path, p) for p in sorted(os.listdir(images_path))]\n",
    "\n",
    "#     result = {}\n",
    "#     for f in files:\n",
    "#         print 'Extracting features from image %s' % f\n",
    "#         name = f.split('/')[-1].lower()\n",
    "#         result[name] = extract_features(f)\n",
    "    \n",
    "#     # saving all our feature vectors in pickled file\n",
    "#     with open(pickled_db_path, 'w') as fp:\n",
    "# pickle.dump(result, fp)"
   ]
  },
  {
   "cell_type": "code",
   "execution_count": 254,
   "metadata": {},
   "outputs": [],
   "source": [
    "# arr1= extract_features(full_face_test, vector_size=48)"
   ]
  },
  {
   "cell_type": "code",
   "execution_count": 255,
   "metadata": {},
   "outputs": [],
   "source": [
    "# arr1= np.array(arr1)\n",
    "# arr1.shape"
   ]
  },
  {
   "cell_type": "code",
   "execution_count": 256,
   "metadata": {},
   "outputs": [],
   "source": [
    "# full_face_test= arr1"
   ]
  },
  {
   "cell_type": "code",
   "execution_count": 257,
   "metadata": {},
   "outputs": [
    {
     "name": "stdout",
     "output_type": "stream",
     "text": [
      "255\n"
     ]
    }
   ],
   "source": [
    "test_feat_test_new = np.zeros_like(full_face_test)\n",
    "\n",
    "for k in range(len(full_face_test)):\n",
    "        test_feat_test_new[k,...] = local_binary_pattern(full_face_test[k,...],8,3)#,method='uniform')\n",
    "print(np.amax(test_feat_test_new))"
   ]
  },
  {
   "cell_type": "code",
   "execution_count": 258,
   "metadata": {},
   "outputs": [
    {
     "data": {
      "image/png": "[encoded data removed]",
      "text/plain": [
       "<Figure size 432x288 with 2 Axes>"
      ]
     },
     "metadata": {},
     "output_type": "display_data"
    }
   ],
   "source": [
    "idx= 90\n",
    "plt.subplot(121)\n",
    "plt.title('Original Image')\n",
    "plt.imshow(full_face_test[idx,...],cmap='Greys_r')\n",
    "\n",
    "plt.subplot(122)\n",
    "plt.title('LBP Image')\n",
    "plt.imshow(test_feat_test_new[idx,...],cmap='Greys_r')\n",
    "plt.show()"
   ]
  },
  {
   "cell_type": "code",
   "execution_count": 259,
   "metadata": {},
   "outputs": [
    {
     "name": "stdout",
     "output_type": "stream",
     "text": [
      "(120, 3136)\n"
     ]
    }
   ],
   "source": [
    "grid_size_x = test_feat_test_new.shape[1]//x_grid\n",
    "grid_size_y = test_feat_test_new.shape[2]//y_grid\n",
    "\n",
    "for k in range(test_feat_test_new.shape[0]):\n",
    "    for x in range(x_grid):\n",
    "        for y in range(y_grid):\n",
    "            patch = test_feat_test_new[k,x*grid_size_x:(x+1)*grid_size_x,y*grid_size_y:(y+1)*grid_size_y]\n",
    "            hist,_ = np.histogram(patch.reshape(-1),bins=64)\n",
    "            if x==0 and y==0:\n",
    "                patch_hist_list = hist\n",
    "            else:\n",
    "                patch_hist_list = np.concatenate([patch_hist_list,hist],0)\n",
    "    if k==0:\n",
    "        test_data_hist_test = patch_hist_list[np.newaxis,...]\n",
    "    else:\n",
    "        test_data_hist_test = np.concatenate([test_data_hist_test,patch_hist_list[np.newaxis,...]],0)\n",
    "print(test_data_hist_test.shape)"
   ]
  },
  {
   "cell_type": "code",
   "execution_count": 260,
   "metadata": {},
   "outputs": [],
   "source": [
    "#test_data_hist_test= full_face_test"
   ]
  },
  {
   "cell_type": "code",
   "execution_count": 261,
   "metadata": {},
   "outputs": [],
   "source": [
    "#test_data_hist_test =  np.reshape(full_face_test,[120,4800])"
   ]
  },
  {
   "cell_type": "code",
   "execution_count": 262,
   "metadata": {},
   "outputs": [
    {
     "name": "stdout",
     "output_type": "stream",
     "text": [
      "(120, 326)\n"
     ]
    }
   ],
   "source": [
    "from sklearn.decomposition import PCA\n",
    "#pca = PCA(whiten=True)\n",
    "#train_feat = data_hist\n",
    "test_feat_test = test_data_hist_test\n",
    "\n",
    "test_feat_pca_test = pca.transform(test_feat_test)\n",
    "test_feat_pca_test = test_feat_pca_test[:,:n_components]\n",
    "print(test_feat_pca_test.shape)"
   ]
  },
  {
   "cell_type": "code",
   "execution_count": 263,
   "metadata": {},
   "outputs": [],
   "source": [
    "test_img_pair_test= test_feat_pca_test"
   ]
  },
  {
   "cell_type": "code",
   "execution_count": 264,
   "metadata": {},
   "outputs": [],
   "source": [
    "#hog features\n",
    "\n",
    "# from skimage.feature import hog,corner_fast\n",
    "# #features_nums = faces.data.reshape(-1,62,47)\n",
    "# hog_features = [hog(full_face_test[n,:,:],pixels_per_cell=(7,7)) for n in range(full_face_test.shape[0])]\n",
    "# hog_features = np.stack(hog_features,0)\n",
    "# print(hog_features.shape)"
   ]
  },
  {
   "cell_type": "code",
   "execution_count": 265,
   "metadata": {},
   "outputs": [],
   "source": [
    "# from sklearn.decomposition import PCA\n",
    "# #pca = PCA(whiten=True)\n",
    "# #train_feat = data_hist\n",
    "# test_feat_test = hog_features\n",
    "\n",
    "# test_feat_pca_test = pca.transform(test_feat_test)\n",
    "# test_feat_pca_test = test_feat_pca_test[:,:n_components]\n",
    "# print(test_feat_pca_test.shape)"
   ]
  },
  {
   "cell_type": "code",
   "execution_count": null,
   "metadata": {},
   "outputs": [],
   "source": []
  },
  {
   "cell_type": "code",
   "execution_count": 266,
   "metadata": {},
   "outputs": [],
   "source": [
    "import pandas as pd\n",
    "data= pd.read_csv('image_pairs.csv')\n",
    "true= pd.read_csv('True.csv', header= None)"
   ]
  },
  {
   "cell_type": "code",
   "execution_count": 267,
   "metadata": {},
   "outputs": [],
   "source": [
    "img_pair_test=[]\n",
    "img_full_pair_test=[]\n",
    "for i in range(len(data)):\n",
    "    a = keys.index(str(data['pair1'][i]))\n",
    "    b = keys.index(str(data['pair2'][i]))\n",
    "    pair= (a,b)\n",
    "    #keys.index(\"bar\")\n",
    "    img_full_pair_test.append(full_face_test[pair,:])\n",
    "    img_pair_test.append(test_feat_pca_test[pair,:])\n",
    "test_img_pair_test = np.stack(img_pair_test)\n",
    "test_full_img_pair_test= np.stack(img_full_pair_test)"
   ]
  },
  {
   "cell_type": "code",
   "execution_count": 268,
   "metadata": {},
   "outputs": [
    {
     "data": {
      "text/plain": [
       "(3540, 2, 326)"
      ]
     },
     "execution_count": 268,
     "metadata": {},
     "output_type": "execute_result"
    }
   ],
   "source": [
    "(test_img_pair_test.shape)"
   ]
  },
  {
   "cell_type": "code",
   "execution_count": 269,
   "metadata": {},
   "outputs": [
    {
     "data": {
      "text/plain": [
       "(3540, 2, 80, 60)"
      ]
     },
     "execution_count": 269,
     "metadata": {},
     "output_type": "execute_result"
    }
   ],
   "source": [
    "test_full_img_pair_test.shape"
   ]
  },
  {
   "cell_type": "code",
   "execution_count": 270,
   "metadata": {},
   "outputs": [
    {
     "data": {
      "image/png": "[encoded data removed]",
      "text/plain": [
       "<Figure size 432x288 with 2 Axes>"
      ]
     },
     "metadata": {},
     "output_type": "display_data"
    }
   ],
   "source": [
    "idx=5\n",
    "img_pair_true = test_full_img_pair_test[idx,:]\n",
    "#print('positive pair with label: ',label_pair[idx])\n",
    "plt.subplot(121)\n",
    "plt.imshow(img_pair_true[0,...].reshape(80,60),cmap='Greys_r')\n",
    "plt.subplot(122)\n",
    "plt.imshow(img_pair_true[1,...].reshape(80,60),cmap='Greys_r')\n",
    "plt.show()"
   ]
  },
  {
   "cell_type": "code",
   "execution_count": 271,
   "metadata": {},
   "outputs": [],
   "source": [
    "test_img_pair_test = np.abs(test_img_pair_test[:,0,...] - test_img_pair_test[:,1,...])"
   ]
  },
  {
   "cell_type": "code",
   "execution_count": 272,
   "metadata": {},
   "outputs": [
    {
     "data": {
      "text/plain": [
       "(3540, 326)"
      ]
     },
     "execution_count": 272,
     "metadata": {},
     "output_type": "execute_result"
    }
   ],
   "source": [
    "test_img_pair_test.shape"
   ]
  },
  {
   "cell_type": "markdown",
   "metadata": {},
   "source": [
    "## Prediction "
   ]
  },
  {
   "cell_type": "code",
   "execution_count": 273,
   "metadata": {},
   "outputs": [],
   "source": [
    "#prediction \n",
    "y_pred = clf.predict(test_img_pair_test)"
   ]
  },
  {
   "cell_type": "code",
   "execution_count": 274,
   "metadata": {},
   "outputs": [],
   "source": [
    "#exporting to csv format \n",
    "pred_df= pd.DataFrame(y_pred)\n",
    "pred_df.to_csv('Predicted values.csv')"
   ]
  },
  {
   "cell_type": "code",
   "execution_count": null,
   "metadata": {},
   "outputs": [],
   "source": []
  }
 ],
 "metadata": {
  "anaconda-cloud": {},
  "kernelspec": {
   "display_name": "Python 3",
   "language": "python",
   "name": "python3"
  },
  "language_info": {
   "codemirror_mode": {
    "name": "ipython",
    "version": 3
   },
   "file_extension": ".py",
   "mimetype": "text/x-python",
   "name": "python",
   "nbconvert_exporter": "python",
   "pygments_lexer": "ipython3",
   "version": "3.6.5"
  }
 },
 "nbformat": 4,
 "nbformat_minor": 1
}
